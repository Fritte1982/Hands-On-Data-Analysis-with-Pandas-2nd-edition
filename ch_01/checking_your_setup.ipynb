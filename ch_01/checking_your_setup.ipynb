{
 "cells": [
  {
   "cell_type": "markdown",
   "metadata": {},
   "source": [
    "# Checking your setup\n",
    "Run through this notebook to make sure your environment is properly setup. Be sure to launch Jupyter from inside the virtual environment."
   ]
  },
  {
   "cell_type": "code",
   "metadata": {
    "ExecuteTime": {
     "end_time": "2025-06-09T16:02:02.368930Z",
     "start_time": "2025-06-09T16:02:02.355930Z"
    }
   },
   "source": [
    "from check_environment import run_checks\n",
    "run_checks()"
   ],
   "outputs": [
    {
     "name": "stdout",
     "output_type": "stream",
     "text": [
      "Using Python in C:\\Users\\richa\\anaconda3\\envs\\book_env:\n",
      "\u001B[42m[ OK ]\u001B[0m Python is version 3.8.20 | packaged by conda-forge | (default, Sep 30 2024, 17:44:03) [MSC v.1929 64 bit (AMD64)]\n",
      "\n",
      "\u001B[42m[ OK ]\u001B[0m graphviz\n",
      "\u001B[42m[ OK ]\u001B[0m imblearn\n",
      "\u001B[42m[ OK ]\u001B[0m ipympl\n",
      "\u001B[42m[ OK ]\u001B[0m jupyterlab\n",
      "\u001B[42m[ OK ]\u001B[0m matplotlib\n",
      "\u001B[42m[ OK ]\u001B[0m numpy\n",
      "\u001B[42m[ OK ]\u001B[0m pandas\n",
      "\u001B[42m[ OK ]\u001B[0m requests\n",
      "\u001B[42m[ OK ]\u001B[0m sklearn\n",
      "\u001B[42m[ OK ]\u001B[0m scipy\n",
      "\u001B[42m[ OK ]\u001B[0m seaborn\n",
      "\u001B[42m[ OK ]\u001B[0m sqlalchemy\n",
      "\u001B[42m[ OK ]\u001B[0m statsmodels\n",
      "\u001B[42m[ OK ]\u001B[0m wheel\n",
      "\u001B[42m[ OK ]\u001B[0m login_attempt_simulator\n",
      "\u001B[42m[ OK ]\u001B[0m ml_utils\n",
      "\u001B[42m[ OK ]\u001B[0m stock_analysis\n",
      "\u001B[42m[ OK ]\u001B[0m visual_aids\n"
     ]
    }
   ],
   "execution_count": 2
  },
  {
   "cell_type": "markdown",
   "metadata": {},
   "source": [
    "*Note: Adapted from Andreas Mueller's [`check_env.ipynb` notebook](https://github.com/amueller/ml-workshop-1-of-4/blob/master/check_env.ipynb).*\n",
    "\n",
    "<hr>\n",
    "<div style=\"overflow: hidden; margin-bottom: 10px;\">\n",
    "    <div style=\"float: left;\">\n",
    "         <a href=\"./introduction_to_data_analysis.ipynb\">\n",
    "            <button>&#8592; Introduction to Data Analysis</button>\n",
    "        </a>\n",
    "    </div>\n",
    "    <div style=\"float: right;\">\n",
    "        <a href=\"./python_101.ipynb\">\n",
    "            <button>Python 101</button>\n",
    "        </a>\n",
    "        <a href=\"./exercises.ipynb\">\n",
    "            <button>Exercises &#8594;</button>\n",
    "        </a>\n",
    "    </div>\n",
    "</div>\n",
    "<hr>"
   ]
  }
 ],
 "metadata": {
  "kernelspec": {
   "display_name": "book_env",
   "language": "python",
   "name": "python3"
  },
  "language_info": {
   "codemirror_mode": {
    "name": "ipython",
    "version": 3
   },
   "file_extension": ".py",
   "mimetype": "text/x-python",
   "name": "python",
   "nbconvert_exporter": "python",
   "pygments_lexer": "ipython3",
   "version": "3.8.20"
  }
 },
 "nbformat": 4,
 "nbformat_minor": 4
}
